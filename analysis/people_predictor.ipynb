{
 "cells": [
  {
   "cell_type": "code",
   "execution_count": 1,
   "metadata": {},
   "outputs": [],
   "source": [
    "# Predict where people fall on the map based on their food preferences\n",
    "import pickle\n",
    "\n",
    "with open(\"./pca_models/people_2d_model.pkl\", \"rb\") as fin:\n",
    "    pca_2d = pickle.load(fin)"
   ]
  },
  {
   "cell_type": "code",
   "execution_count": 2,
   "metadata": {},
   "outputs": [],
   "source": [
    "# Predict with new data\n",
    "import numpy as np\n",
    "\n",
    "def transform(prefs):\n",
    "    mean = np.nanmean(prefs)\n",
    "    for i in range(len(prefs)):\n",
    "        if np.isnan(prefs[i]):\n",
    "            prefs[i] = mean\n",
    "\n",
    "    std = np.std(prefs)\n",
    "    prefs = (prefs - mean) / std\n",
    "    \n",
    "    prefs = prefs.reshape(1, -1)\n",
    "\n",
    "    return pca_2d.transform(prefs)\n",
    "\n",
    "\n",
    "def get_point(spreadsheet_row):\n",
    "    prefs = []\n",
    "    parts = spreadsheet_row.split(\"\\t\")[3:-2][:50]\n",
    "\n",
    "    for part in parts:\n",
    "        prefs.append(np.nan if part == \"\" else float(part))\n",
    "\n",
    "    prefs = np.array(prefs)\n",
    "    return transform(prefs)"
   ]
  },
  {
   "cell_type": "code",
   "execution_count": 3,
   "metadata": {},
   "outputs": [
    {
     "name": "stdout",
     "output_type": "stream",
     "text": [
      "[[ 4.37142025 -2.23402267]]\n",
      "[[ 4.37142025 -2.23402267]]\n",
      "[[ 4.37142025 -2.23402267]]\n",
      "[[ 4.37142025 -2.23402267]]\n"
     ]
    },
    {
     "name": "stderr",
     "output_type": "stream",
     "text": [
      "C:\\Users\\willi\\AppData\\Local\\Temp\\ipykernel_19600\\650484049.py:5: RuntimeWarning: Mean of empty slice\n",
      "  mean = np.nanmean(prefs)\n",
      "c:\\Users\\willi\\AppData\\Local\\Programs\\Python\\Python310\\lib\\site-packages\\numpy\\core\\_methods.py:265: RuntimeWarning: Degrees of freedom <= 0 for slice\n",
      "  ret = _var(a, axis=axis, dtype=dtype, out=out, ddof=ddof,\n",
      "c:\\Users\\willi\\AppData\\Local\\Programs\\Python\\Python310\\lib\\site-packages\\numpy\\core\\_methods.py:223: RuntimeWarning: invalid value encountered in divide\n",
      "  arrmean = um.true_divide(arrmean, div, out=arrmean, casting='unsafe',\n",
      "c:\\Users\\willi\\AppData\\Local\\Programs\\Python\\Python310\\lib\\site-packages\\numpy\\core\\_methods.py:257: RuntimeWarning: invalid value encountered in double_scalars\n",
      "  ret = ret.dtype.type(ret / rcount)\n"
     ]
    },
    {
     "name": "stdout",
     "output_type": "stream",
     "text": [
      "Error :(\n"
     ]
    },
    {
     "name": "stderr",
     "output_type": "stream",
     "text": [
      "C:\\Users\\willi\\AppData\\Local\\Temp\\ipykernel_19600\\650484049.py:5: RuntimeWarning: Mean of empty slice\n",
      "  mean = np.nanmean(prefs)\n",
      "c:\\Users\\willi\\AppData\\Local\\Programs\\Python\\Python310\\lib\\site-packages\\numpy\\core\\_methods.py:265: RuntimeWarning: Degrees of freedom <= 0 for slice\n",
      "  ret = _var(a, axis=axis, dtype=dtype, out=out, ddof=ddof,\n",
      "c:\\Users\\willi\\AppData\\Local\\Programs\\Python\\Python310\\lib\\site-packages\\numpy\\core\\_methods.py:223: RuntimeWarning: invalid value encountered in divide\n",
      "  arrmean = um.true_divide(arrmean, div, out=arrmean, casting='unsafe',\n",
      "c:\\Users\\willi\\AppData\\Local\\Programs\\Python\\Python310\\lib\\site-packages\\numpy\\core\\_methods.py:257: RuntimeWarning: invalid value encountered in double_scalars\n",
      "  ret = ret.dtype.type(ret / rcount)\n"
     ]
    },
    {
     "name": "stdout",
     "output_type": "stream",
     "text": [
      "Error :(\n"
     ]
    }
   ],
   "source": [
    "while True:\n",
    "    col = input(\"\\nRow: \")\n",
    "    try:\n",
    "        print(get_point(col))\n",
    "    except:\n",
    "        print(\"Error :(\")"
   ]
  }
 ],
 "metadata": {
  "kernelspec": {
   "display_name": "Python 3.10.6 64-bit (windows store)",
   "language": "python",
   "name": "python3"
  },
  "language_info": {
   "codemirror_mode": {
    "name": "ipython",
    "version": 3
   },
   "file_extension": ".py",
   "mimetype": "text/x-python",
   "name": "python",
   "nbconvert_exporter": "python",
   "pygments_lexer": "ipython3",
   "version": "3.10.6"
  },
  "orig_nbformat": 4,
  "vscode": {
   "interpreter": {
    "hash": "5f07e8f80a78d731554c2ce7ed8433d0fa1e00c779c09dd1ced00d3c38371f3b"
   }
  }
 },
 "nbformat": 4,
 "nbformat_minor": 2
}
